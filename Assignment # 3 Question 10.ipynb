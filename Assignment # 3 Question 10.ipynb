{
 "cells": [
  {
   "cell_type": "code",
   "execution_count": 1,
   "id": "0fa629b6",
   "metadata": {},
   "outputs": [
    {
     "name": "stdout",
     "output_type": "stream",
     "text": [
      "Sum of all elements in the list =  205\n"
     ]
    }
   ],
   "source": [
    "# Question 10\n",
    "# Write a Python program to sum all the numeric items in a list?  \n",
    "\n",
    "listRange  = [42, 45, 78, 20, 20]\n",
    "\n",
    "total = sum(listRange)   \n",
    "\n",
    "print(\"Sum of all elements in the list = \",total)"
   ]
  },
  {
   "cell_type": "code",
   "execution_count": null,
   "id": "1fa924d2",
   "metadata": {},
   "outputs": [],
   "source": []
  }
 ],
 "metadata": {
  "kernelspec": {
   "display_name": "Python 3",
   "language": "python",
   "name": "python3"
  },
  "language_info": {
   "codemirror_mode": {
    "name": "ipython",
    "version": 3
   },
   "file_extension": ".py",
   "mimetype": "text/x-python",
   "name": "python",
   "nbconvert_exporter": "python",
   "pygments_lexer": "ipython3",
   "version": "3.8.8"
  }
 },
 "nbformat": 4,
 "nbformat_minor": 5
}
